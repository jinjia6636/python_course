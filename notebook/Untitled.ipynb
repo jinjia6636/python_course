{
 "cells": [
  {
   "cell_type": "code",
   "execution_count": 2,
   "metadata": {},
   "outputs": [
    {
     "name": "stdout",
     "output_type": "stream",
     "text": [
      "1001.5007501249997\n"
     ]
    }
   ],
   "source": [
    "p=5\n",
    "A=1000\n",
    "print(A*(1+p/100)**3)"
   ]
  },
  {
   "cell_type": "code",
   "execution_count": 3,
   "metadata": {},
   "outputs": [
    {
     "name": "stdout",
     "output_type": "stream",
     "text": [
      "1157.6250000000002\n"
     ]
    }
   ],
   "source": [
    "p=5\n",
    "A=1000\n",
    "print(A*(1+p/100)**3)"
   ]
  },
  {
   "cell_type": "code",
   "execution_count": 15,
   "metadata": {},
   "outputs": [
    {
     "name": "stdout",
     "output_type": "stream",
     "text": [
      "313.09454902221637\n"
     ]
    }
   ],
   "source": [
    "M=47\n",
    "c=3.7\n",
    "p=1.038\n",
    "K=5.4*(10**(-3))\n",
    "from math import log,pi\n",
    "T0=4\n",
    "Tw=100\n",
    "Ty=70\n",
    "t=log(0.76*(T0-Tw)/(Ty-Tw))*(M**(2/3)*c*p**(1/3))/(K*(pi**2)*(4*pi/3)**(2/3))\n",
    "print(t)  "
   ]
  },
  {
   "cell_type": "code",
   "execution_count": 16,
   "metadata": {},
   "outputs": [
    {
     "name": "stdout",
     "output_type": "stream",
     "text": [
      "396.5763425294507\n"
     ]
    }
   ],
   "source": [
    "M=67\n",
    "c=3.7\n",
    "p=1.038\n",
    "K=5.4*(10**(-3))\n",
    "from math import log,pi\n",
    "T0=4\n",
    "Tw=100\n",
    "Ty=70\n",
    "t=log(0.76*(T0-Tw)/(Ty-Tw))*(M**(2/3)*c*p**(1/3))/(K*(pi**2)*(4*pi/3)**(2/3))\n",
    "print(t)  "
   ]
  },
  {
   "cell_type": "code",
   "execution_count": 17,
   "metadata": {},
   "outputs": [
    {
     "name": "stdout",
     "output_type": "stream",
     "text": [
      "517.9369972838691\n"
     ]
    }
   ],
   "source": [
    "M=100\n",
    "c=3.7\n",
    "p=1.038\n",
    "K=5.4*(10**(-3))\n",
    "from math import log,pi\n",
    "T0=4\n",
    "Tw=100\n",
    "Ty=70\n",
    "t=log(0.76*(T0-Tw)/(Ty-Tw))*(M**(2/3)*c*p**(1/3))/(K*(pi**2)*(4*pi/3)**(2/3))\n",
    "print(t) "
   ]
  },
  {
   "cell_type": "code",
   "execution_count": 18,
   "metadata": {},
   "outputs": [
    {
     "name": "stdout",
     "output_type": "stream",
     "text": [
      "822.1737343416644\n"
     ]
    }
   ],
   "source": [
    "M=200\n",
    "c=3.7\n",
    "p=1.038\n",
    "K=5.4*(10**(-3))\n",
    "from math import log,pi\n",
    "T0=4\n",
    "Tw=100\n",
    "Ty=70\n",
    "t=log(0.76*(T0-Tw)/(Ty-Tw))*(M**(2/3)*c*p**(1/3))/(K*(pi**2)*(4*pi/3)**(2/3))\n",
    "print(t) "
   ]
  },
  {
   "cell_type": "markdown",
   "metadata": {},
   "source": [
    "# This is test of python\n",
    "## chapter 1\n",
    "### 1.step1\n"
   ]
  },
  {
   "cell_type": "code",
   "execution_count": 20,
   "metadata": {},
   "outputs": [
    {
     "name": "stdout",
     "output_type": "stream",
     "text": [
      "---------\n",
      "-20 -4.0\n",
      "-15 5.0\n",
      "-10 14.0\n",
      "-5 23.0\n",
      "0 32.0\n",
      "5 41.0\n",
      "10 50.0\n",
      "15 59.0\n",
      "20 68.0\n",
      "25 77.0\n",
      "30 86.0\n",
      "35 95.0\n",
      "40 104.0\n",
      "------------\n"
     ]
    }
   ],
   "source": [
    "print ('---------')\n",
    "C = -20\n",
    "dC = 5\n",
    "while C <= 40:\n",
    "    F=(9.0/5)*C+32\n",
    "    print(C,F)\n",
    "    C = C+dC\n",
    "print ('------------')"
   ]
  },
  {
   "cell_type": "code",
   "execution_count": 21,
   "metadata": {},
   "outputs": [
    {
     "name": "stdout",
     "output_type": "stream",
     "text": [
      "False\n"
     ]
    }
   ],
   "source": [
    "print (C==40)"
   ]
  },
  {
   "cell_type": "code",
   "execution_count": 22,
   "metadata": {},
   "outputs": [
    {
     "name": "stdout",
     "output_type": "stream",
     "text": [
      "False\n"
     ]
    }
   ],
   "source": [
    "x = 0\n",
    "y = 1.2\n",
    "print(x >= 0 and y < 1)"
   ]
  },
  {
   "cell_type": "code",
   "execution_count": 23,
   "metadata": {},
   "outputs": [
    {
     "name": "stdout",
     "output_type": "stream",
     "text": [
      "True\n"
     ]
    }
   ],
   "source": [
    "print(x >=0 or y < 1)"
   ]
  },
  {
   "cell_type": "code",
   "execution_count": 24,
   "metadata": {},
   "outputs": [
    {
     "name": "stdout",
     "output_type": "stream",
     "text": [
      "False\n"
     ]
    }
   ],
   "source": [
    "print(x > 0 or not y > 1)"
   ]
  },
  {
   "cell_type": "code",
   "execution_count": 25,
   "metadata": {},
   "outputs": [
    {
     "name": "stdout",
     "output_type": "stream",
     "text": [
      "False\n"
     ]
    }
   ],
   "source": [
    "print(-1 < x < 0)"
   ]
  },
  {
   "cell_type": "code",
   "execution_count": 3,
   "metadata": {},
   "outputs": [
    {
     "name": "stdout",
     "output_type": "stream",
     "text": [
      "[-15, -10, -5, 0, 5, 10, 15, 20]\n"
     ]
    }
   ],
   "source": [
    "C=[-15,-10,-5,0,5,10,15]\n",
    "C.append(20)\n",
    "print(C)"
   ]
  },
  {
   "cell_type": "code",
   "execution_count": 7,
   "metadata": {},
   "outputs": [
    {
     "name": "stdout",
     "output_type": "stream",
     "text": [
      "[-15, -10, -5, 0, 5, 10, 15, 20, 25, 30, 25, 30, 25, 30]\n"
     ]
    }
   ],
   "source": [
    "D=C+[25,30]\n",
    "print(D)"
   ]
  },
  {
   "cell_type": "code",
   "execution_count": 14,
   "metadata": {},
   "outputs": [
    {
     "name": "stdout",
     "output_type": "stream",
     "text": [
      "[0, 1, 2, 3, 4, 5]\n"
     ]
    }
   ],
   "source": [
    "C=[0,1,2,3]\n",
    "D=C+[4,5]\n",
    "print(D)"
   ]
  },
  {
   "cell_type": "code",
   "execution_count": 15,
   "metadata": {},
   "outputs": [
    {
     "name": "stdout",
     "output_type": "stream",
     "text": [
      "[0, 1, 2, 3, 4, 5]\n"
     ]
    }
   ],
   "source": [
    "C=[0,1,2,3]\n",
    "C=C+[4,5]\n",
    "print(C)"
   ]
  },
  {
   "cell_type": "code",
   "execution_count": 16,
   "metadata": {},
   "outputs": [
    {
     "name": "stdout",
     "output_type": "stream",
     "text": [
      "[-1, 0, 1, 2, 3, 4, 5]\n"
     ]
    }
   ],
   "source": [
    "C.insert(0,-1)\n",
    "print(C)"
   ]
  },
  {
   "cell_type": "code",
   "execution_count": 17,
   "metadata": {},
   "outputs": [
    {
     "name": "stdout",
     "output_type": "stream",
     "text": [
      "[-1, 1, 2, 3, 4, 5]\n"
     ]
    }
   ],
   "source": [
    "del C[1]\n",
    "print(C)"
   ]
  },
  {
   "cell_type": "code",
   "execution_count": 18,
   "metadata": {},
   "outputs": [
    {
     "data": {
      "text/plain": [
       "6"
      ]
     },
     "execution_count": 18,
     "metadata": {},
     "output_type": "execute_result"
    }
   ],
   "source": [
    "len(C)"
   ]
  },
  {
   "cell_type": "code",
   "execution_count": 19,
   "metadata": {},
   "outputs": [
    {
     "data": {
      "text/plain": [
       "2"
      ]
     },
     "execution_count": 19,
     "metadata": {},
     "output_type": "execute_result"
    }
   ],
   "source": [
    "C.index(2)"
   ]
  },
  {
   "cell_type": "code",
   "execution_count": 20,
   "metadata": {},
   "outputs": [
    {
     "data": {
      "text/plain": [
       "False"
      ]
     },
     "execution_count": 20,
     "metadata": {},
     "output_type": "execute_result"
    }
   ],
   "source": [
    "10 in C"
   ]
  },
  {
   "cell_type": "code",
   "execution_count": 21,
   "metadata": {},
   "outputs": [
    {
     "data": {
      "text/plain": [
       "1"
      ]
     },
     "execution_count": 21,
     "metadata": {},
     "output_type": "execute_result"
    }
   ],
   "source": [
    "C[1]"
   ]
  },
  {
   "cell_type": "code",
   "execution_count": 22,
   "metadata": {},
   "outputs": [
    {
     "data": {
      "text/plain": [
       "[-1, 1, 2]"
      ]
     },
     "execution_count": 22,
     "metadata": {},
     "output_type": "execute_result"
    }
   ],
   "source": [
    "C[0:3]"
   ]
  },
  {
   "cell_type": "code",
   "execution_count": 23,
   "metadata": {},
   "outputs": [
    {
     "data": {
      "text/plain": [
       "[3, 4, 5]"
      ]
     },
     "execution_count": 23,
     "metadata": {},
     "output_type": "execute_result"
    }
   ],
   "source": [
    "C[3:]"
   ]
  },
  {
   "cell_type": "code",
   "execution_count": 24,
   "metadata": {},
   "outputs": [
    {
     "data": {
      "text/plain": [
       "[-1, 1]"
      ]
     },
     "execution_count": 24,
     "metadata": {},
     "output_type": "execute_result"
    }
   ],
   "source": [
    "C[:2]"
   ]
  },
  {
   "cell_type": "code",
   "execution_count": 26,
   "metadata": {},
   "outputs": [
    {
     "name": "stdout",
     "output_type": "stream",
     "text": [
      "-20 -4.0\n",
      "-15 5.0\n",
      "-10 14.0\n",
      "-5 23.0\n",
      "0 32.0\n",
      "5 41.0\n",
      "10 50.0\n",
      "15 59.0\n",
      "20 68.0\n",
      "25 77.0\n",
      "30 86.0\n",
      "35 95.0\n",
      "40 104.0\n"
     ]
    }
   ],
   "source": [
    "Cdegree=[-20, -15, -10, -5, 0, 5, 10, 15, 20, 25, 30, 35, 40]\n",
    "for C in Cdegree:\n",
    "    F=(9.0/5)*C+32\n",
    "    print(C,F)"
   ]
  },
  {
   "cell_type": "code",
   "execution_count": 28,
   "metadata": {},
   "outputs": [
    {
     "name": "stdout",
     "output_type": "stream",
     "text": [
      "   C  F\n",
      "  -20  -4.0\n",
      "  -15   5.0\n",
      "  -10  14.0\n",
      "   -5  23.0\n",
      "    0  32.0\n",
      "    5  41.0\n",
      "   10  50.0\n",
      "   15  59.0\n",
      "   20  68.0\n",
      "   25  77.0\n",
      "   30  86.0\n",
      "   35  95.0\n",
      "   40 104.0\n"
     ]
    }
   ],
   "source": [
    "Cdegree=[-20, -15, -10, -5, 0, 5, 10, 15, 20, 25, 30, 35, 40]\n",
    "print ('   C  F')\n",
    "for C in Cdegree:\n",
    "    F=(9.0/5)*C+32\n",
    "    print('%5d %5.1f' % (C, F))"
   ]
  },
  {
   "cell_type": "code",
   "execution_count": 30,
   "metadata": {},
   "outputs": [
    {
     "name": "stdout",
     "output_type": "stream",
     "text": [
      "36\n"
     ]
    }
   ],
   "source": [
    "n=12\n",
    "sum=0\n",
    "while n>=1:\n",
    "    sum=sum+(n-1)\n",
    "    n=n-2\n",
    "print(sum)\n"
   ]
  },
  {
   "cell_type": "code",
   "execution_count": 36,
   "metadata": {},
   "outputs": [
    {
     "name": "stdout",
     "output_type": "stream",
     "text": [
      "99\n",
      "97\n",
      "95\n",
      "93\n",
      "91\n",
      "89\n",
      "87\n",
      "85\n",
      "83\n",
      "81\n",
      "79\n",
      "77\n",
      "75\n",
      "73\n",
      "71\n",
      "69\n",
      "67\n",
      "65\n",
      "63\n",
      "61\n",
      "59\n",
      "57\n",
      "55\n",
      "53\n",
      "51\n",
      "49\n",
      "47\n",
      "45\n",
      "43\n",
      "41\n",
      "39\n",
      "37\n",
      "35\n",
      "33\n",
      "31\n",
      "29\n",
      "27\n",
      "25\n",
      "23\n",
      "21\n",
      "19\n",
      "17\n",
      "15\n",
      "13\n",
      "11\n",
      "9\n",
      "7\n",
      "5\n",
      "3\n",
      "1\n"
     ]
    }
   ],
   "source": [
    "n=100\n",
    "while n>=1:\n",
    "    print (n-1)\n",
    "    n=n-2"
   ]
  },
  {
   "cell_type": "code",
   "execution_count": 35,
   "metadata": {},
   "outputs": [
    {
     "name": "stdout",
     "output_type": "stream",
     "text": [
      "[11, 9, 7, 5, 3, 1]\n"
     ]
    }
   ],
   "source": [
    "C=[]\n",
    "n=12\n",
    "while n>=1:\n",
    "    C.append(n-1)\n",
    "    n=n-2\n",
    "print(C)"
   ]
  },
  {
   "cell_type": "code",
   "execution_count": 37,
   "metadata": {},
   "outputs": [
    {
     "name": "stdout",
     "output_type": "stream",
     "text": [
      "1\n",
      "3\n",
      "5\n",
      "7\n",
      "9\n",
      "11\n",
      "13\n",
      "15\n",
      "17\n",
      "19\n",
      "21\n",
      "23\n",
      "25\n",
      "27\n",
      "29\n",
      "31\n",
      "33\n",
      "35\n",
      "37\n",
      "39\n",
      "41\n",
      "43\n",
      "45\n",
      "47\n",
      "49\n",
      "51\n",
      "53\n",
      "55\n",
      "57\n",
      "59\n",
      "61\n",
      "63\n",
      "65\n",
      "67\n",
      "69\n",
      "71\n",
      "73\n",
      "75\n",
      "77\n",
      "79\n",
      "81\n",
      "83\n",
      "85\n",
      "87\n",
      "89\n",
      "91\n",
      "93\n",
      "95\n",
      "97\n",
      "99\n"
     ]
    }
   ],
   "source": [
    "n=100\n",
    "b=1\n",
    "while b<=n:\n",
    "    print (b)\n",
    "    b=b+2"
   ]
  },
  {
   "cell_type": "code",
   "execution_count": 38,
   "metadata": {},
   "outputs": [
    {
     "name": "stdout",
     "output_type": "stream",
     "text": [
      "1\n",
      "3\n",
      "5\n",
      "7\n",
      "9\n",
      "11\n",
      "13\n",
      "15\n",
      "17\n",
      "19\n"
     ]
    }
   ],
   "source": [
    "n=20\n",
    "i=1\n",
    "while i<20:\n",
    "    if i % 2 == 1:\n",
    "        print(i)\n",
    "    i=i+1"
   ]
  },
  {
   "cell_type": "code",
   "execution_count": 39,
   "metadata": {},
   "outputs": [
    {
     "name": "stdout",
     "output_type": "stream",
     "text": [
      "[1, 3, 5, 7, 9, 11, 13, 15, 17, 19]\n"
     ]
    }
   ],
   "source": [
    "C=[]\n",
    "n=20\n",
    "i=1\n",
    "while i<20:\n",
    "    if i % 2 == 1:\n",
    "        C.append(i)\n",
    "    i=i+1\n",
    "print(C)"
   ]
  },
  {
   "cell_type": "code",
   "execution_count": 40,
   "metadata": {},
   "outputs": [
    {
     "name": "stdout",
     "output_type": "stream",
     "text": [
      "[2, 4, 6, 8]\n"
     ]
    }
   ],
   "source": [
    "a=[1,3,5,7]\n",
    "d=[e+1 for e in a]\n",
    "print(d)"
   ]
  },
  {
   "cell_type": "code",
   "execution_count": 41,
   "metadata": {},
   "outputs": [
    {
     "name": "stdout",
     "output_type": "stream",
     "text": [
      "[2, 4, 6, 8, 14]\n"
     ]
    }
   ],
   "source": [
    "b=[13,17]\n",
    "d.append(b[0]+1)\n",
    "print(d)"
   ]
  },
  {
   "cell_type": "code",
   "execution_count": 43,
   "metadata": {},
   "outputs": [
    {
     "name": "stdout",
     "output_type": "stream",
     "text": [
      "[0.0, 0.0, 0.0, 0.0, 0.0, 0.0, 0.0, 0.0, 0.0, 0.0, 0.0, 0.0, 0.0]\n"
     ]
    }
   ],
   "source": [
    "Cdegrees=range(-20,45,5)\n",
    "Fdegrees=[0.0]*len(Cdegrees)\n",
    "print(Fdegrees)"
   ]
  },
  {
   "cell_type": "code",
   "execution_count": 44,
   "metadata": {},
   "outputs": [
    {
     "name": "stdout",
     "output_type": "stream",
     "text": [
      "[-4.0, 5.0, 14.0, 23.0, 32.0, 41.0, 50.0, 59.0, 68.0, 77.0, 86.0, 95.0, 104.0]\n"
     ]
    }
   ],
   "source": [
    "Cdegrees=range(-20,45,5)\n",
    "Fdegrees=[0.0]*len(Cdegrees)\n",
    "for i in range(len(Cdegrees)):\n",
    "    Fdegrees[i]=(9.0/5)*Cdegrees[i]+32\n",
    "print(Fdegrees)"
   ]
  },
  {
   "cell_type": "code",
   "execution_count": 47,
   "metadata": {},
   "outputs": [
    {
     "data": {
      "text/plain": [
       "[-20, -15, -10, -5, 0, 5, 10, 15, 20, 25, 30, 35, 40]"
      ]
     },
     "execution_count": 47,
     "metadata": {},
     "output_type": "execute_result"
    }
   ],
   "source": [
    "Cdegrees=range(-20,45,5)\n",
    "list (Cdegrees)"
   ]
  },
  {
   "cell_type": "code",
   "execution_count": 54,
   "metadata": {},
   "outputs": [
    {
     "name": "stdout",
     "output_type": "stream",
     "text": [
      "[0.0, 1.7640000000000002, 3.136, 4.116000000000001, 4.704, 4.9, 4.704, 4.116000000000001, 3.136000000000001, 1.764000000000003, 0.0]\n"
     ]
    }
   ],
   "source": [
    "c=[]\n",
    "v0=9.8\n",
    "t=0\n",
    "g=9.8\n",
    "dt= 0.2*v0/g  \n",
    "while t <= 2 :\n",
    "    y=v0*t-0.5*g*(t**2) \n",
    "    c.append(y)\n",
    "    t=t+dt\n",
    "print(c)"
   ]
  },
  {
   "cell_type": "code",
   "execution_count": 55,
   "metadata": {},
   "outputs": [
    {
     "name": "stdout",
     "output_type": "stream",
     "text": [
      "[0.931, 1.7640000000000002, 2.4990000000000006, 3.136, 3.6750000000000003, 4.116]\n"
     ]
    }
   ],
   "source": [
    "c=[]\n",
    "b=[]\n",
    "v0=9.8\n",
    "t=0.1\n",
    "g=9.8\n",
    "dt= 0.1  \n",
    "while t <= 0.6 :\n",
    "    y=v0*t-0.5*g*(t**2) \n",
    "    c.append(y)\n",
    "    b.append(t)\n",
    "    t=t+dt\n",
    "print(c)"
   ]
  },
  {
   "cell_type": "code",
   "execution_count": 67,
   "metadata": {},
   "outputs": [
    {
     "name": "stdout",
     "output_type": "stream",
     "text": [
      "[0.931, 1.7640000000000002, 2.4990000000000006, 3.136, 3.6750000000000003, 4.116]\n"
     ]
    }
   ],
   "source": [
    "c=[]\n",
    "b=[]\n",
    "v0=9.8\n",
    "t=0.1\n",
    "g=9.8\n",
    "dt= 0.1  \n",
    "while t <= 0.6 :\n",
    "    y=v0*t-0.5*g*(t**2) \n",
    "    c.append(y)\n",
    "    b.append(t)\n",
    "    t=t+dt\n",
    "print(c)"
   ]
  },
  {
   "cell_type": "code",
   "execution_count": 68,
   "metadata": {},
   "outputs": [
    {
     "name": "stdout",
     "output_type": "stream",
     "text": [
      "[0.1, 0.2, 0.30000000000000004, 0.4, 0.5, 0.6]\n"
     ]
    }
   ],
   "source": [
    "print(b)"
   ]
  },
  {
   "cell_type": "code",
   "execution_count": 69,
   "metadata": {},
   "outputs": [
    {
     "data": {
      "text/plain": [
       "[<matplotlib.lines.Line2D at 0xac04d78c>]"
      ]
     },
     "execution_count": 69,
     "metadata": {},
     "output_type": "execute_result"
    },
    {
     "data": {
      "image/png": "[encoded data removed]",
      "text/plain": [
       "<matplotlib.figure.Figure at 0xac00336c>"
      ]
     },
     "metadata": {},
     "output_type": "display_data"
    }
   ],
   "source": [
    "import matplotlib.pyplot as plt\n",
    "plt.plot(b,c,'ro-') #红色点线图"
   ]
  },
  {
   "cell_type": "code",
   "execution_count": 1,
   "metadata": {},
   "outputs": [
    {
     "name": "stdout",
     "output_type": "stream",
     "text": [
      "[0, 0.1, 0.2, 0.30000000000000004, 0.4, 0.5, 0.6, 0.7, 0.7999999999999999, 0.8999999999999999, 0.9999999999999999] [1.0, 1.1619039607568877, 1.3012056815137754, 1.417905162270663, 1.5120024030275507, 1.5834974037844385, 1.6323901645413263, 1.658680685298214, 1.6623689660551018, 1.6434550068119895, 1.6019388075688774]\n"
     ]
    }
   ],
   "source": [
    "a=[]\n",
    "b=[]\n",
    "g=9.81\n",
    "v0=15/3.6\n",
    "theta=60\n",
    "x=0\n",
    "y0=1\n",
    "from math import pi, tan, cos\n",
    "theta=theta*pi/180\n",
    "while x<=1:\n",
    "    y=x*tan(theta)-1/(2*v0**2)*g*x**2/((cos(theta))**2)+y0\n",
    "    a.append(x)\n",
    "    b.append(y)\n",
    "    x=x+0.1\n",
    "print(a,b)"
   ]
  },
  {
   "cell_type": "code",
   "execution_count": 15,
   "metadata": {},
   "outputs": [
    {
     "data": {
      "text/plain": [
       "[<matplotlib.lines.Line2D at 0xac80594c>]"
      ]
     },
     "execution_count": 15,
     "metadata": {},
     "output_type": "execute_result"
    },
    {
     "data": {
      "image/png": "[encoded data removed]",
      "text/plain": [
       "<matplotlib.figure.Figure at 0xac8ff5ec>"
      ]
     },
     "metadata": {},
     "output_type": "display_data"
    }
   ],
   "source": [
    "import matplotlib.pyplot as plt\n",
    "plt.plot(a,b,'ro-') "
   ]
  },
  {
   "cell_type": "code",
   "execution_count": 24,
   "metadata": {},
   "outputs": [
    {
     "name": "stdout",
     "output_type": "stream",
     "text": [
      "1\n",
      "3\n",
      "5\n",
      "7\n",
      "11\n",
      "13\n"
     ]
    }
   ],
   "source": [
    "a=[1,3,5,7,11,13]\n",
    "for i in a:\n",
    "    print(i)"
   ]
  },
  {
   "cell_type": "code",
   "execution_count": 25,
   "metadata": {},
   "outputs": [
    {
     "name": "stdout",
     "output_type": "stream",
     "text": [
      "[1, 3, 5, 7, 11, 13, 17]\n"
     ]
    }
   ],
   "source": [
    "p=17\n",
    "a=[1,3,5,7,11,13]\n",
    "a.append(p)\n",
    "print(a)"
   ]
  },
  {
   "cell_type": "code",
   "execution_count": 28,
   "metadata": {},
   "outputs": [
    {
     "name": "stdout",
     "output_type": "stream",
     "text": [
      "[1.0, 1.01, 1.02, 1.03, 1.04, 1.05, 1.06, 1.07, 1.08, 1.09, 1.1, 1.11, 1.12, 1.13, 1.1400000000000001, 1.15, 1.16, 1.17, 1.18, 1.19, 1.2, 1.21, 1.22, 1.23, 1.24, 1.25, 1.26, 1.27, 1.28, 1.29, 1.3, 1.31, 1.32, 1.33, 1.34, 1.35, 1.3599999999999999, 1.37, 1.38, 1.3900000000000001, 1.4, 1.4100000000000001, 1.42, 1.43, 1.44, 1.45, 1.46, 1.47, 1.48, 1.49, 1.5, 1.51, 1.52, 1.53, 1.54, 1.55, 1.56, 1.57, 1.58, 1.5899999999999999, 1.6, 1.6099999999999999, 1.62, 1.63, 1.6400000000000001, 1.65, 1.6600000000000001, 1.67, 1.6800000000000002, 1.69, 1.7000000000000002, 1.71, 1.72, 1.73, 1.74, 1.75, 1.76, 1.77, 1.78, 1.79, 1.8, 1.81, 1.82, 1.83, 1.8399999999999999, 1.85, 1.8599999999999999, 1.87, 1.88, 1.8900000000000001, 1.9, 1.9100000000000001, 1.92, 1.9300000000000002, 1.94, 1.9500000000000002, 1.96, 1.97, 1.98, 1.99, 2.0]\n"
     ]
    }
   ],
   "source": [
    "a=[]\n",
    "x0=1\n",
    "xi=0\n",
    "h=0.01\n",
    "for i in range(0, 101, 1):\n",
    "    xi=x0+h*i\n",
    "    a.append(xi)\n",
    "print(a)\n"
   ]
  },
  {
   "cell_type": "code",
   "execution_count": 29,
   "metadata": {},
   "outputs": [
    {
     "name": "stdout",
     "output_type": "stream",
     "text": [
      "[1.0, 1.01, 1.02, 1.03, 1.04, 1.05, 1.06, 1.07, 1.08, 1.09, 1.1, 1.11, 1.12, 1.13, 1.1400000000000001, 1.15, 1.16, 1.17, 1.18, 1.19, 1.2, 1.21, 1.22, 1.23, 1.24, 1.25, 1.26, 1.27, 1.28, 1.29, 1.3, 1.31, 1.32, 1.33, 1.34, 1.35, 1.3599999999999999, 1.37, 1.38, 1.3900000000000001, 1.4, 1.4100000000000001, 1.42, 1.43, 1.44, 1.45, 1.46, 1.47, 1.48, 1.49, 1.5, 1.51, 1.52, 1.53, 1.54, 1.55, 1.56, 1.57, 1.58, 1.5899999999999999, 1.6, 1.6099999999999999, 1.62, 1.63, 1.6400000000000001, 1.65, 1.6600000000000001, 1.67, 1.6800000000000002, 1.69, 1.7000000000000002, 1.71, 1.72, 1.73, 1.74, 1.75, 1.76, 1.77, 1.78, 1.79, 1.8, 1.81, 1.82, 1.83, 1.8399999999999999, 1.85, 1.8599999999999999, 1.87, 1.88, 1.8900000000000001, 1.9, 1.9100000000000001, 1.92, 1.9300000000000002, 1.94, 1.9500000000000002, 1.96, 1.97, 1.98, 1.99, 2.0]\n"
     ]
    }
   ],
   "source": [
    "a=range(0, 101, 1)\n",
    "x0=1\n",
    "xi=0\n",
    "h=0.01b=[x0+h*i for i in a]\n",
    "print(b)"
   ]
  },
  {
   "cell_type": "code",
   "execution_count": 10,
   "metadata": {},
   "outputs": [
    {
     "name": "stdout",
     "output_type": "stream",
     "text": [
      "5.187377517639621\n"
     ]
    }
   ],
   "source": [
    "s=0;k=1;M=100\n",
    "while k<=M:\n",
    "    s+=(1/k)\n",
    "    k=k+1\n",
    "print(s)"
   ]
  },
  {
   "cell_type": "code",
   "execution_count": 18,
   "metadata": {},
   "outputs": [
    {
     "name": "stdout",
     "output_type": "stream",
     "text": [
      "5.187377517639621\n"
     ]
    }
   ],
   "source": [
    "s=0\n",
    "for k in range(1,101,1):\n",
    "    s=s+(1/k)\n",
    "print(s)  \n",
    "    "
   ]
  },
  {
   "cell_type": "code",
   "execution_count": 20,
   "metadata": {},
   "outputs": [
    {
     "name": "stdout",
     "output_type": "stream",
     "text": [
      "[[-20, -15, -10, -5, 0, 5, 10, 15, 20, 25, 30, 35, 40], [-4.0, 5.0, 14.0, 23.0, 32.0, 41.0, 50.0, 59.0, 68.0, 77.0, 86.0, 95.0, 104.0]]\n"
     ]
    }
   ],
   "source": [
    "Cdegrees=list(range(-20,41,5))\n",
    "Fdegrees=[(9.0/5)*C + 32 for C in Cdegrees]\n",
    "table = [Cdegrees, Fdegrees]\n",
    "print (table)"
   ]
  },
  {
   "cell_type": "code",
   "execution_count": 27,
   "metadata": {},
   "outputs": [
    {
     "name": "stdout",
     "output_type": "stream",
     "text": [
      "  12\n",
      "  16\n",
      "  11\n",
      "  12\n",
      "\n",
      "   9\n",
      "\n",
      "   6\n",
      "   9\n",
      "  11\n",
      "  14\n",
      "  17\n",
      "  15\n",
      "  14\n",
      "  20\n",
      "\n",
      "  12\n",
      "  16\n",
      "  11\n",
      "  12\n",
      "\n",
      "   9\n",
      "\n",
      "   6\n",
      "   9\n",
      "  11\n",
      "  14\n",
      "  17\n",
      "  15\n",
      "  14\n",
      "  20\n",
      "\n"
     ]
    }
   ],
   "source": [
    "scores=[]\n",
    "scores.append([12,16,11,12])\n",
    "scores.append([9])\n",
    "scores.append([6,9,11,14,17,15,14,20])\n",
    "for p in range(len(scores)):  #range(3)=[0,1,2]\n",
    "    for g in range(len(scores[p])):\n",
    "        score=scores[p][g] #scores[0][0]第(0,0)个元素\n",
    "        print('%4d' % score)\n",
    "    print()  #打印空行\n",
    "for player in scores:\n",
    "    for game in player:\n",
    "        print ('%4d'% game)\n",
    "    print ()"
   ]
  },
  {
   "cell_type": "code",
   "execution_count": 30,
   "metadata": {},
   "outputs": [
    {
     "name": "stdout",
     "output_type": "stream",
     "text": [
      "a\n"
     ]
    }
   ],
   "source": [
    "q=[['a','b','c'], ['d','e','f'],['g','h']]\n",
    "print(q[0][0])"
   ]
  },
  {
   "cell_type": "code",
   "execution_count": 31,
   "metadata": {},
   "outputs": [
    {
     "name": "stdout",
     "output_type": "stream",
     "text": [
      "['d', 'e', 'f']\n"
     ]
    }
   ],
   "source": [
    "print(q[1])"
   ]
  },
  {
   "cell_type": "code",
   "execution_count": 32,
   "metadata": {},
   "outputs": [
    {
     "name": "stdout",
     "output_type": "stream",
     "text": [
      "h\n"
     ]
    }
   ],
   "source": [
    "print(q[2][1])"
   ]
  },
  {
   "cell_type": "code",
   "execution_count": 33,
   "metadata": {},
   "outputs": [
    {
     "name": "stdout",
     "output_type": "stream",
     "text": [
      "d\n"
     ]
    }
   ],
   "source": [
    "print(q[1][0])"
   ]
  },
  {
   "cell_type": "code",
   "execution_count": 34,
   "metadata": {},
   "outputs": [
    {
     "name": "stdout",
     "output_type": "stream",
     "text": [
      "[1, 2, 3]\n"
     ]
    }
   ],
   "source": [
    "a=[1,2]\n",
    "b=a\n",
    "b.append(3)\n",
    "print(b)"
   ]
  },
  {
   "cell_type": "code",
   "execution_count": 35,
   "metadata": {},
   "outputs": [
    {
     "name": "stdout",
     "output_type": "stream",
     "text": [
      "[1, 2, 3]\n"
     ]
    }
   ],
   "source": [
    "print(a)"
   ]
  },
  {
   "cell_type": "code",
   "execution_count": 36,
   "metadata": {},
   "outputs": [
    {
     "name": "stdout",
     "output_type": "stream",
     "text": [
      "[1, 2, 3]\n"
     ]
    }
   ],
   "source": [
    "a=[1,2]\n",
    "b=a[:]\n",
    "b.append(3)\n",
    "print(b)"
   ]
  },
  {
   "cell_type": "code",
   "execution_count": 37,
   "metadata": {},
   "outputs": [
    {
     "name": "stdout",
     "output_type": "stream",
     "text": [
      "[1, 2]\n"
     ]
    }
   ],
   "source": [
    "print(a)"
   ]
  },
  {
   "cell_type": "code",
   "execution_count": 39,
   "metadata": {},
   "outputs": [
    {
     "name": "stdout",
     "output_type": "stream",
     "text": [
      "[1, 100, 10000, 1000000, 100000000]\n"
     ]
    }
   ],
   "source": [
    "q=[r**2 for r in [10**i for i in range(5)]]\n",
    "print(q)"
   ]
  },
  {
   "cell_type": "code",
   "execution_count": 43,
   "metadata": {},
   "outputs": [
    {
     "name": "stdout",
     "output_type": "stream",
     "text": [
      "[1, 100, 10000, 1000000, 100000000]\n"
     ]
    }
   ],
   "source": [
    "q=[]\n",
    "for i in range(5):\n",
    "    r=10**i\n",
    "    R=r**2\n",
    "    q.append(R)\n",
    "print(q)"
   ]
  },
  {
   "cell_type": "code",
   "execution_count": 44,
   "metadata": {},
   "outputs": [
    {
     "data": {
      "text/plain": [
       "True"
      ]
     },
     "execution_count": 44,
     "metadata": {},
     "output_type": "execute_result"
    }
   ],
   "source": [
    "False == 0"
   ]
  },
  {
   "cell_type": "code",
   "execution_count": 45,
   "metadata": {},
   "outputs": [
    {
     "data": {
      "text/plain": [
       "False"
      ]
     },
     "execution_count": 45,
     "metadata": {},
     "output_type": "execute_result"
    }
   ],
   "source": [
    "True == 2"
   ]
  },
  {
   "cell_type": "code",
   "execution_count": 11,
   "metadata": {},
   "outputs": [
    {
     "name": "stdout",
     "output_type": "stream",
     "text": [
      "0 times sqrt and **2: 2.0000000000000000\n",
      "1 times sqrt and **2: 2.0000000000000004\n",
      "2 times sqrt and **2: 1.9999999999999996\n",
      "3 times sqrt and **2: 1.9999999999999996\n",
      "4 times sqrt and **2: 1.9999999999999964\n",
      "5 times sqrt and **2: 1.9999999999999964\n",
      "6 times sqrt and **2: 1.9999999999999964\n",
      "7 times sqrt and **2: 1.9999999999999714\n",
      "8 times sqrt and **2: 2.0000000000000235\n",
      "9 times sqrt and **2: 2.0000000000000235\n",
      "10 times sqrt and **2: 2.0000000000000235\n",
      "11 times sqrt and **2: 2.0000000000000235\n",
      "12 times sqrt and **2: 1.9999999999991336\n",
      "13 times sqrt and **2: 1.9999999999973292\n",
      "14 times sqrt and **2: 1.9999999999973292\n",
      "15 times sqrt and **2: 1.9999999999973292\n",
      "16 times sqrt and **2: 2.0000000000117746\n",
      "17 times sqrt and **2: 2.0000000000408580\n",
      "18 times sqrt and **2: 2.0000000000408580\n",
      "19 times sqrt and **2: 2.0000000001573586\n",
      "20 times sqrt and **2: 2.0000000001573586\n",
      "21 times sqrt and **2: 2.0000000001573586\n",
      "22 times sqrt and **2: 2.0000000010885857\n",
      "23 times sqrt and **2: 2.0000000029511749\n",
      "24 times sqrt and **2: 2.0000000066771721\n",
      "25 times sqrt and **2: 2.0000000066771721\n",
      "26 times sqrt and **2: 1.9999999917775542\n",
      "27 times sqrt and **2: 1.9999999917775542\n",
      "28 times sqrt and **2: 1.9999999917775542\n",
      "29 times sqrt and **2: 1.9999999917775542\n",
      "30 times sqrt and **2: 1.9999999917775542\n",
      "31 times sqrt and **2: 1.9999999917775542\n",
      "32 times sqrt and **2: 1.9999990380770896\n",
      "33 times sqrt and **2: 1.9999971307544144\n",
      "34 times sqrt and **2: 1.9999971307544144\n",
      "35 times sqrt and **2: 1.9999971307544144\n",
      "36 times sqrt and **2: 1.9999971307544144\n",
      "37 times sqrt and **2: 1.9999971307544144\n",
      "38 times sqrt and **2: 1.9999360966436217\n",
      "39 times sqrt and **2: 1.9999360966436217\n",
      "40 times sqrt and **2: 1.9999360966436217\n",
      "41 times sqrt and **2: 1.9994478907329654\n",
      "42 times sqrt and **2: 1.9984718365144798\n",
      "43 times sqrt and **2: 1.9965211562778555\n",
      "44 times sqrt and **2: 1.9965211562778555\n",
      "45 times sqrt and **2: 1.9887374575497223\n",
      "46 times sqrt and **2: 1.9887374575497223\n",
      "47 times sqrt and **2: 1.9887374575497223\n",
      "48 times sqrt and **2: 1.9887374575497223\n",
      "49 times sqrt and **2: 1.8682459487159784\n",
      "50 times sqrt and **2: 1.6487212645509468\n",
      "51 times sqrt and **2: 1.6487212645509468\n",
      "52 times sqrt and **2: 1.0000000000000000\n",
      "53 times sqrt and **2: 1.0000000000000000\n",
      "54 times sqrt and **2: 1.0000000000000000\n",
      "55 times sqrt and **2: 1.0000000000000000\n",
      "56 times sqrt and **2: 1.0000000000000000\n",
      "57 times sqrt and **2: 1.0000000000000000\n",
      "58 times sqrt and **2: 1.0000000000000000\n",
      "59 times sqrt and **2: 1.0000000000000000\n"
     ]
    }
   ],
   "source": [
    "from math import sqrt\n",
    "for n in range(60):\n",
    "    r=2.0\n",
    "    for i in range(n):\n",
    "      r= sqrt(r)\n",
    "    for i in range(n):\n",
    "      r=r**2\n",
    "    print ('%d times sqrt and **2: %.16f' % (n,r))"
   ]
  },
  {
   "cell_type": "code",
   "execution_count": 12,
   "metadata": {},
   "outputs": [
    {
     "data": {
      "text/plain": [
       "3"
      ]
     },
     "execution_count": 12,
     "metadata": {},
     "output_type": "execute_result"
    }
   ],
   "source": [
    "max([1,2,3])"
   ]
  },
  {
   "cell_type": "code",
   "execution_count": 13,
   "metadata": {},
   "outputs": [
    {
     "data": {
      "text/plain": [
       "[0, 1, 2, 3]"
      ]
     },
     "execution_count": 13,
     "metadata": {},
     "output_type": "execute_result"
    }
   ],
   "source": [
    "list(range(4))"
   ]
  },
  {
   "cell_type": "code",
   "execution_count": 14,
   "metadata": {},
   "outputs": [
    {
     "data": {
      "text/plain": [
       "'123'"
      ]
     },
     "execution_count": 14,
     "metadata": {},
     "output_type": "execute_result"
    }
   ],
   "source": [
    "str(123)"
   ]
  },
  {
   "cell_type": "code",
   "execution_count": 15,
   "metadata": {},
   "outputs": [
    {
     "data": {
      "text/plain": [
       "5"
      ]
     },
     "execution_count": 15,
     "metadata": {},
     "output_type": "execute_result"
    }
   ],
   "source": [
    "int(5.5)"
   ]
  },
  {
   "cell_type": "code",
   "execution_count": 19,
   "metadata": {},
   "outputs": [
    {
     "name": "stdout",
     "output_type": "stream",
     "text": [
      "50.0\n"
     ]
    }
   ],
   "source": [
    "def F(C):  #定义函数，不能以数字开头，句末有冒号\n",
    "    return (9.0/5)*C+32\n",
    "a=10\n",
    "F1=F(a)\n",
    "print(F1)"
   ]
  },
  {
   "cell_type": "code",
   "execution_count": 22,
   "metadata": {},
   "outputs": [
    {
     "name": "stdout",
     "output_type": "stream",
     "text": [
      "59.900000000000006\n"
     ]
    }
   ],
   "source": [
    "temp=F(15.5)\n",
    "print(temp)"
   ]
  },
  {
   "cell_type": "code",
   "execution_count": 24,
   "metadata": {},
   "outputs": [
    {
     "name": "stdout",
     "output_type": "stream",
     "text": [
      "51.8\n"
     ]
    }
   ],
   "source": [
    "print (F(a+1))"
   ]
  },
  {
   "cell_type": "code",
   "execution_count": 25,
   "metadata": {},
   "outputs": [
    {
     "name": "stdout",
     "output_type": "stream",
     "text": [
      "118.0\n"
     ]
    }
   ],
   "source": [
    "sum_temp=F(10)+F(20)\n",
    "print(sum_temp)"
   ]
  },
  {
   "cell_type": "code",
   "execution_count": 26,
   "metadata": {},
   "outputs": [
    {
     "name": "stdout",
     "output_type": "stream",
     "text": [
      "20\n"
     ]
    }
   ],
   "source": [
    "a=20;b=-2.5 #全局变量\n",
    "def f1(x):\n",
    "    a=21  #新的局域变量，只在该函数中起作用\n",
    "    return(a*x+b)\n",
    "print(a)"
   ]
  },
  {
   "cell_type": "code",
   "execution_count": 29,
   "metadata": {},
   "outputs": [
    {
     "name": "stdout",
     "output_type": "stream",
     "text": [
      "21\n"
     ]
    }
   ],
   "source": [
    "def f2(x):\n",
    "    global a #改变全局a的值\n",
    "    a=21\n",
    "    return (a*x+b)\n",
    "f1(3);print(a) "
   ]
  },
  {
   "cell_type": "code",
   "execution_count": 28,
   "metadata": {},
   "outputs": [
    {
     "name": "stdout",
     "output_type": "stream",
     "text": [
      "21\n"
     ]
    }
   ],
   "source": [
    "f2(3);print(a)"
   ]
  },
  {
   "cell_type": "code",
   "execution_count": 30,
   "metadata": {},
   "outputs": [
    {
     "name": "stdout",
     "output_type": "stream",
     "text": [
      "0.5999888597293374\n"
     ]
    }
   ],
   "source": [
    "def yfunc(t,v0):  #函数中有多个变量\n",
    "    g=9.81\n",
    "    return(v0*t-0.5**g*t**2)\n",
    "y=yfunc(0.1,6)\n",
    "y=yfunc(0.1, v0=6)\n",
    "y=yfunc(t=0.1, v0=6)\n",
    "y=yfunc(v0=6, t=0.1)\n",
    "print(y)"
   ]
  },
  {
   "cell_type": "code",
   "execution_count": 31,
   "metadata": {},
   "outputs": [
    {
     "name": "stdout",
     "output_type": "stream",
     "text": [
      "[0, 0.2, 0.4, 0.6000000000000001, 0.8, 1.0, 1.2, 1.4, 1.5999999999999999, 1.7999999999999998, 1.9999999999999998, 2.1999999999999997, 2.4, 2.6, 2.8000000000000003, 3.0000000000000004, 3.2000000000000006, 3.400000000000001, 3.600000000000001, 3.800000000000001, 4.000000000000001, 4.200000000000001, 4.400000000000001, 4.600000000000001, 4.800000000000002, 5.000000000000002, 5.200000000000002, 5.400000000000002, 5.600000000000002, 5.8000000000000025, 6.000000000000003, 6.200000000000003, 6.400000000000003, 6.600000000000003, 6.800000000000003, 7.0000000000000036, 7.200000000000004, 7.400000000000004, 7.600000000000004, 7.800000000000004, 8.000000000000004, 8.200000000000003, 8.400000000000002, 8.600000000000001, 8.8, 9.0, 9.2, 9.399999999999999, 9.599999999999998, 9.799999999999997, 9.999999999999996, 10.199999999999996, 10.399999999999995, 10.599999999999994, 10.799999999999994, 10.999999999999993, 11.199999999999992, 11.399999999999991, 11.59999999999999, 11.79999999999999, 11.99999999999999, 12.199999999999989, 12.399999999999988, 12.599999999999987, 12.799999999999986, 12.999999999999986, 13.199999999999985, 13.399999999999984, 13.599999999999984, 13.799999999999983, 13.999999999999982, 14.199999999999982, 14.39999999999998, 14.59999999999998, 14.79999999999998, 14.999999999999979, 15.199999999999978, 15.399999999999977, 15.599999999999977, 15.799999999999976, 15.999999999999975, 16.199999999999974, 16.399999999999974, 16.599999999999973, 16.799999999999972, 16.99999999999997, 17.19999999999997, 17.39999999999997, 17.59999999999997, 17.79999999999997, 17.999999999999968, 18.199999999999967, 18.399999999999967, 18.599999999999966, 18.799999999999965, 18.999999999999964, 19.199999999999964, 19.399999999999963, 19.599999999999962, 19.79999999999996, 19.99999999999996, 20.19999999999996, 20.39999999999996, 20.59999999999996, 20.799999999999958, 20.999999999999957, 21.199999999999957, 21.399999999999956, 21.599999999999955, 21.799999999999955, 21.999999999999954, 22.199999999999953, 22.399999999999952, 22.59999999999995, 22.79999999999995, 22.99999999999995, 23.19999999999995, 23.39999999999995, 23.599999999999948, 23.799999999999947, 23.999999999999947, 24.199999999999946, 24.399999999999945, 24.599999999999945, 24.799999999999944, 24.999999999999943, 25.199999999999942, 25.39999999999994, 25.59999999999994, 25.79999999999994, 25.99999999999994, 26.19999999999994, 26.399999999999938, 26.599999999999937, 26.799999999999937, 26.999999999999936, 27.199999999999935, 27.399999999999935, 27.599999999999934, 27.799999999999933, 27.999999999999932, 28.199999999999932, 28.39999999999993, 28.59999999999993, 28.79999999999993, 28.99999999999993, 29.19999999999993, 29.399999999999928, 29.599999999999927, 29.799999999999926, 29.999999999999925, 30.199999999999925, 30.399999999999924, 30.599999999999923, 30.799999999999923, 30.999999999999922, 31.19999999999992, 31.39999999999992, 31.59999999999992, 31.79999999999992, 31.99999999999992, 32.19999999999992, 32.39999999999992, 32.59999999999992, 32.799999999999926, 32.99999999999993, 33.19999999999993, 33.399999999999935, 33.59999999999994, 33.79999999999994, 33.99999999999994, 34.199999999999946, 34.39999999999995, 34.59999999999995, 34.799999999999955, 34.99999999999996, 35.19999999999996, 35.39999999999996, 35.599999999999966, 35.79999999999997, 35.99999999999997, 36.199999999999974, 36.39999999999998, 36.59999999999998, 36.79999999999998, 36.999999999999986, 37.19999999999999, 37.39999999999999, 37.599999999999994, 37.8, 38.0, 38.2, 38.400000000000006, 38.60000000000001, 38.80000000000001, 39.000000000000014, 39.20000000000002, 39.40000000000002, 39.60000000000002, 39.800000000000026, 40.00000000000003, 40.20000000000003, 40.400000000000034, 40.60000000000004, 40.80000000000004, 41.00000000000004, 41.200000000000045, 41.40000000000005, 41.60000000000005, 41.800000000000054, 42.00000000000006, 42.20000000000006, 42.40000000000006, 42.600000000000065, 42.80000000000007, 43.00000000000007, 43.200000000000074, 43.40000000000008, 43.60000000000008, 43.80000000000008, 44.000000000000085, 44.20000000000009, 44.40000000000009, 44.600000000000094, 44.8000000000001, 45.0000000000001, 45.2000000000001, 45.400000000000105, 45.60000000000011, 45.80000000000011, 46.000000000000114, 46.20000000000012, 46.40000000000012, 46.60000000000012, 46.800000000000125, 47.00000000000013, 47.20000000000013, 47.400000000000134, 47.600000000000136, 47.80000000000014, 48.00000000000014, 48.200000000000145, 48.40000000000015, 48.60000000000015, 48.80000000000015, 49.000000000000156, 49.20000000000016, 49.40000000000016, 49.600000000000165, 49.80000000000017, 50.00000000000017, 50.20000000000017, 50.400000000000176, 50.60000000000018, 50.80000000000018, 51.000000000000185, 51.20000000000019, 51.40000000000019, 51.60000000000019, 51.800000000000196, 52.0000000000002, 52.2000000000002, 52.400000000000205, 52.60000000000021, 52.80000000000021, 53.00000000000021, 53.200000000000216, 53.40000000000022, 53.60000000000022, 53.800000000000225, 54.00000000000023, 54.20000000000023, 54.40000000000023, 54.600000000000236, 54.80000000000024, 55.00000000000024, 55.200000000000244, 55.40000000000025, 55.60000000000025, 55.80000000000025, 56.000000000000256, 56.20000000000026, 56.40000000000026, 56.600000000000264, 56.80000000000027, 57.00000000000027, 57.20000000000027, 57.400000000000276, 57.60000000000028, 57.80000000000028, 58.000000000000284, 58.20000000000029, 58.40000000000029, 58.60000000000029, 58.800000000000296, 59.0000000000003, 59.2000000000003, 59.400000000000304, 59.60000000000031, 59.80000000000031, 60.00000000000031, 60.200000000000315, 60.40000000000032, 60.60000000000032, 60.800000000000324, 61.00000000000033, 61.20000000000033, 61.40000000000033, 61.600000000000335, 61.80000000000034, 62.00000000000034, 62.200000000000344, 62.40000000000035, 62.60000000000035, 62.80000000000035, 63.000000000000355, 63.20000000000036, 63.40000000000036, 63.600000000000364, 63.80000000000037, 64.00000000000037, 64.20000000000037, 64.40000000000038, 64.60000000000038, 64.80000000000038, 65.00000000000038, 65.20000000000039, 65.40000000000039, 65.60000000000039, 65.8000000000004, 66.0000000000004, 66.2000000000004, 66.4000000000004, 66.6000000000004, 66.80000000000041, 67.00000000000041, 67.20000000000041, 67.40000000000042, 67.60000000000042, 67.80000000000042, 68.00000000000043, 68.20000000000043, 68.40000000000043, 68.60000000000043, 68.80000000000044, 69.00000000000044, 69.20000000000044, 69.40000000000045, 69.60000000000045, 69.80000000000045, 70.00000000000045, 70.20000000000046, 70.40000000000046, 70.60000000000046, 70.80000000000047, 71.00000000000047, 71.20000000000047, 71.40000000000047, 71.60000000000048, 71.80000000000048, 72.00000000000048, 72.20000000000049, 72.40000000000049, 72.60000000000049, 72.8000000000005, 73.0000000000005, 73.2000000000005, 73.4000000000005, 73.6000000000005, 73.80000000000051, 74.00000000000051, 74.20000000000051, 74.40000000000052, 74.60000000000052, 74.80000000000052, 75.00000000000053, 75.20000000000053, 75.40000000000053, 75.60000000000053, 75.80000000000054, 76.00000000000054, 76.20000000000054, 76.40000000000055, 76.60000000000055, 76.80000000000055, 77.00000000000055, 77.20000000000056, 77.40000000000056, 77.60000000000056, 77.80000000000057, 78.00000000000057, 78.20000000000057, 78.40000000000057, 78.60000000000058, 78.80000000000058, 79.00000000000058, 79.20000000000059, 79.40000000000059, 79.60000000000059, 79.8000000000006, 80.0000000000006, 80.2000000000006, 80.4000000000006, 80.6000000000006, 80.80000000000061, 81.00000000000061, 81.20000000000061, 81.40000000000062, 81.60000000000062, 81.80000000000062, 82.00000000000063, 82.20000000000063, 82.40000000000063, 82.60000000000063, 82.80000000000064, 83.00000000000064, 83.20000000000064, 83.40000000000065, 83.60000000000065, 83.80000000000065, 84.00000000000065, 84.20000000000066, 84.40000000000066, 84.60000000000066, 84.80000000000067, 85.00000000000067, 85.20000000000067, 85.40000000000067, 85.60000000000068, 85.80000000000068, 86.00000000000068, 86.20000000000068, 86.40000000000069, 86.60000000000069, 86.8000000000007, 87.0000000000007, 87.2000000000007, 87.4000000000007, 87.6000000000007, 87.80000000000071, 88.00000000000071, 88.20000000000071, 88.40000000000072, 88.60000000000072, 88.80000000000072, 89.00000000000072, 89.20000000000073, 89.40000000000073, 89.60000000000073, 89.80000000000074, 90.00000000000074, 90.20000000000074, 90.40000000000074, 90.60000000000075, 90.80000000000075, 91.00000000000075, 91.20000000000076, 91.40000000000076, 91.60000000000076, 91.80000000000076, 92.00000000000077, 92.20000000000077, 92.40000000000077, 92.60000000000078, 92.80000000000078, 93.00000000000078, 93.20000000000078, 93.40000000000079, 93.60000000000079, 93.8000000000008, 94.0000000000008, 94.2000000000008, 94.4000000000008, 94.6000000000008, 94.80000000000081, 95.00000000000081, 95.20000000000081, 95.40000000000082, 95.60000000000082, 95.80000000000082, 96.00000000000082, 96.20000000000083, 96.40000000000083, 96.60000000000083, 96.80000000000084, 97.00000000000084, 97.20000000000084, 97.40000000000084, 97.60000000000085, 97.80000000000085, 98.00000000000085, 98.20000000000086, 98.40000000000086, 98.60000000000086, 98.80000000000086, 99.00000000000087, 99.20000000000087, 99.40000000000087, 99.60000000000088, 99.80000000000088]\n"
     ]
    }
   ],
   "source": [
    "def makelist(start, stop, inc):  #与range的区别，range只能是整数间隔\n",
    "    value=start\n",
    "    result=[]\n",
    "    while value<= stop:\n",
    "        result.append(value)\n",
    "        value=value+inc\n",
    "    return result\n",
    "mylist=makelist(0,100,0.2)\n",
    "print(mylist)"
   ]
  },
  {
   "cell_type": "code",
   "execution_count": 32,
   "metadata": {},
   "outputs": [],
   "source": [
    "def yfunc(t,v0):\n",
    "    g=9.81\n",
    "    y=v0*t-0.5*g*t**2\n",
    "    dydt=v0-g*t\n",
    "    return y, dydt"
   ]
  },
  {
   "cell_type": "code",
   "execution_count": 33,
   "metadata": {},
   "outputs": [
    {
     "name": "stdout",
     "output_type": "stream",
     "text": [
      "0.034199999999999786 -2.886\n"
     ]
    }
   ],
   "source": [
    "position,velocity=yfunc(0.6, 3)\n",
    "print(position,velocity)"
   ]
  },
  {
   "cell_type": "code",
   "execution_count": 36,
   "metadata": {},
   "outputs": [
    {
     "name": "stdout",
     "output_type": "stream",
     "text": [
      "(0.034199999999999786, -2.886)\n"
     ]
    }
   ],
   "source": [
    "result=yfunc(0.6,3)\n",
    "print(result) #输出元组"
   ]
  },
  {
   "cell_type": "code",
   "execution_count": 37,
   "metadata": {},
   "outputs": [],
   "source": [
    "def somefunc(arg1,arg2,kwarg1=True,kwarg2=0):\n",
    "    print(arg1,arg2,kwarg1,kwarg2)\n",
    "somefunc('Hello',[1,2])\n",
    "    "
   ]
  },
  {
   "cell_type": "code",
   "execution_count": 43,
   "metadata": {},
   "outputs": [
    {
     "name": "stdout",
     "output_type": "stream",
     "text": [
      "epsilon: 1e-04, exact error: 8.18e-04, n=55\n",
      "epsilon: 1e-06, exact error: 9.02e-06, n=97\n",
      "epsilon: 1e-08, exact error: 8.70e-08, n=142\n",
      "epsilon: 1e-10, exact error: 9.20e-10, n=187\n",
      "epsilon: 1e-12, exact error: 9.31e-12, n=233\n"
     ]
    }
   ],
   "source": [
    "def L2(x,epsilon=1.0E-6):\n",
    "    x=float(x)\n",
    "    i=1\n",
    "    term=(1.0/i)*(x/(1+x))**i\n",
    "    s=term\n",
    "    while abs(term)>epsilon: #abs(x) is |x|\n",
    "        i+=1\n",
    "        term=(1.0/i)*(x/(1+x))**i\n",
    "        s+=term\n",
    "    return s,i\n",
    "from math import log\n",
    "x=10\n",
    "for k in range(4,14,2):\n",
    "    epsilon=10**(-k)\n",
    "    approx,n=L2(x,epsilon=epsilon)\n",
    "    exact=log(1+x)\n",
    "    exact_error=exact-approx\n",
    "    print('epsilon: %5.0e, exact error: %8.2e, n=%d' %  (epsilon, exact_error, n))"
   ]
  },
  {
   "cell_type": "code",
   "execution_count": 49,
   "metadata": {},
   "outputs": [
    {
     "name": "stdout",
     "output_type": "stream",
     "text": [
      "1.0\n"
     ]
    }
   ],
   "source": [
    "def area(vertices):\n",
    "    x1=vertices[0][0]\n",
    "    y1=vertices[0][1]\n",
    "    x2=vertices[1][0]\n",
    "    y2=vertices[1][1]\n",
    "    x3=vertices[2][0]\n",
    "    y3=vertices[2][1]\n",
    "    return 0.5*(x2*y3-x3*y2-x1*y3+x3*y1+x1*y2-x2*y1)\n",
    "x=[[0,0],[1,0],[0,2]]\n",
    "print(area(x))    "
   ]
  },
  {
   "cell_type": "code",
   "execution_count": 7,
   "metadata": {},
   "outputs": [
    {
     "name": "stdout",
     "output_type": "stream",
     "text": [
      "3.414213562373095\n"
     ]
    }
   ],
   "source": [
    "from math import sqrt\n",
    "def pathlength(x,y):\n",
    "    lx=0\n",
    "    for i in range(1,len(x)):\n",
    "        lx+=sqrt((x[i]-x[i-1])**2+(y[i]-y[i-1])**2)\n",
    "    return lx\n",
    "x=[1,2,1,1]\n",
    "y=[1,1,2,1]\n",
    "print(pathlength(x,y))"
   ]
  },
  {
   "cell_type": "code",
   "execution_count": 31,
   "metadata": {},
   "outputs": [
    {
     "name": "stdout",
     "output_type": "stream",
     "text": [
      "3.414213562373095\n"
     ]
    }
   ],
   "source": [
    "from math import sqrt\n",
    "def pathlength(z):\n",
    "    lx=0\n",
    "    for i in range(1,len(z)):\n",
    "        lx+=sqrt((z[i][0]-z[i-1][0])**2+(z[i][1]-z[i-1][1])**2)\n",
    "    return lx\n",
    "z=[[1,1],[2,1],[1,2],[1,1]]\n",
    "print(pathlength(z))"
   ]
  },
  {
   "cell_type": "code",
   "execution_count": 17,
   "metadata": {},
   "outputs": [
    {
     "name": "stdout",
     "output_type": "stream",
     "text": [
      "error\n",
      "None\n"
     ]
    }
   ],
   "source": [
    "from math import sqrt\n",
    "def pathlength(x,y):\n",
    "    lx=0\n",
    "    if (len(x)==len(y)) and (len(x)>=2):\n",
    "        for i in range(1,len(x)):\n",
    "            lx+=sqrt((x[i]-x[i-1])**2+(y[i]-y[i-1])**2)\n",
    "        return lx\n",
    "    else: \n",
    "        print ('error')\n",
    "        return\n",
    "x=[1]\n",
    "y=[1]\n",
    "print(pathlength(x,y))"
   ]
  },
  {
   "cell_type": "code",
   "execution_count": 15,
   "metadata": {},
   "outputs": [
    {
     "name": "stdout",
     "output_type": "stream",
     "text": [
      "Hello, World!\n"
     ]
    }
   ],
   "source": [
    "def hw1():\n",
    "    return 'Hello, World!'\n",
    "print (hw1())"
   ]
  },
  {
   "cell_type": "code",
   "execution_count": 19,
   "metadata": {},
   "outputs": [
    {
     "name": "stdout",
     "output_type": "stream",
     "text": [
      "Hello,World\n"
     ]
    }
   ],
   "source": [
    "def hw2():\n",
    "    print('Hello,World')\n",
    "    return\n",
    "hw2()"
   ]
  },
  {
   "cell_type": "code",
   "execution_count": 17,
   "metadata": {},
   "outputs": [
    {
     "name": "stdout",
     "output_type": "stream",
     "text": [
      "Hello , World!\n"
     ]
    }
   ],
   "source": [
    "def hw3(x,y):\n",
    "    print(x,',', y)\n",
    "hw3('Hello','World!')"
   ]
  },
  {
   "cell_type": "code",
   "execution_count": 41,
   "metadata": {},
   "outputs": [
    {
     "name": "stdout",
     "output_type": "stream",
     "text": [
      "[-5, -4, -3, -2, -1, 0, 1, 2, 3, 4, 5] [1.4867195147342977e-06, 0.00013383022576488537, 0.0044318484119380075, 0.05399096651318806, 0.24197072451914337, 0.3989422804014327, 0.24197072451914337, 0.05399096651318806, 0.0044318484119380075, 0.00013383022576488537, 1.4867195147342977e-06]\n"
     ]
    }
   ],
   "source": [
    "x=[-5,-4,-3,-2,-1,0,1,2,3,4,5]\n",
    "y=[]\n",
    "from math import exp,sqrt,pi\n",
    "def f(x,m=0,s=1):\n",
    "    for i in x:\n",
    "        z=(1/(sqrt(2*pi)*s)*exp(-0.5*((i-m)/s)**2))\n",
    "        y.append(z)\n",
    "    return y\n",
    "print(x,f(x,m=0,s=1))"
   ]
  },
  {
   "cell_type": "code",
   "execution_count": 31,
   "metadata": {},
   "outputs": [
    {
     "data": {
      "text/plain": [
       "[<matplotlib.lines.Line2D at 0xaca7d94c>]"
      ]
     },
     "execution_count": 31,
     "metadata": {},
     "output_type": "execute_result"
    },
    {
     "data": {
      "image/png": "[encoded data removed]",
      "text/plain": [
       "<matplotlib.figure.Figure at 0xb4e4210c>"
      ]
     },
     "metadata": {},
     "output_type": "display_data"
    }
   ],
   "source": [
    "import matplotlib.pyplot as plt\n",
    "plt.plot(x,y,'ro-') "
   ]
  },
  {
   "cell_type": "code",
   "execution_count": 49,
   "metadata": {},
   "outputs": [
    {
     "name": "stdout",
     "output_type": "stream",
     "text": [
      "[-5, -4, -3, -2, -1, 0, 1, 2, 3, 4, 5] [0.0022159242059690038, 0.00876415024678427, 0.02699548325659403, 0.06475879783294587, 0.12098536225957168, 0.17603266338214976, 0.19947114020071635, 0.17603266338214976, 0.12098536225957168, 0.06475879783294587, 0.02699548325659403]\n"
     ]
    },
    {
     "data": {
      "text/plain": [
       "[<matplotlib.lines.Line2D at 0xac86ddac>]"
      ]
     },
     "execution_count": 49,
     "metadata": {},
     "output_type": "execute_result"
    },
    {
     "data": {
      "image/png": "[encoded data removed]",
      "text/plain": [
       "<matplotlib.figure.Figure at 0xac8973ec>"
      ]
     },
     "metadata": {},
     "output_type": "display_data"
    }
   ],
   "source": [
    "x=[-5,-4,-3,-2,-1,0,1,2,3,4,5]\n",
    "y=[]\n",
    "from math import exp,sqrt,pi\n",
    "def f(x,m=0,s=1):\n",
    "    for i in x:\n",
    "        z=(1/(sqrt(2*pi)*s)*exp(-0.5*((i-m)/s)**2))\n",
    "        y.append(z)\n",
    "    return y\n",
    "print(x,f(x,m=1,s=2))\n",
    "import matplotlib.pyplot as plt\n",
    "plt.plot(x,y,'ro-')"
   ]
  },
  {
   "cell_type": "code",
   "execution_count": 61,
   "metadata": {},
   "outputs": [
    {
     "ename": "TypeError",
     "evalue": "'map' object is not callable",
     "output_type": "error",
     "traceback": [
      "\u001b[0;31m---------------------------------------------------------------------------\u001b[0m",
      "\u001b[0;31mTypeError\u001b[0m                                 Traceback (most recent call last)",
      "\u001b[0;32m<ipython-input-61-5a80e0c6899a>\u001b[0m in \u001b[0;36m<module>\u001b[0;34m()\u001b[0m\n\u001b[1;32m      3\u001b[0m     \u001b[0mz\u001b[0m\u001b[0;34m=\u001b[0m\u001b[0;34m(\u001b[0m\u001b[0;36m1\u001b[0m\u001b[0;34m/\u001b[0m\u001b[0;34m(\u001b[0m\u001b[0msqrt\u001b[0m\u001b[0;34m(\u001b[0m\u001b[0;36m2\u001b[0m\u001b[0;34m*\u001b[0m\u001b[0mpi\u001b[0m\u001b[0;34m)\u001b[0m\u001b[0;34m*\u001b[0m\u001b[0ms\u001b[0m\u001b[0;34m)\u001b[0m\u001b[0;34m*\u001b[0m\u001b[0mexp\u001b[0m\u001b[0;34m(\u001b[0m\u001b[0;34m-\u001b[0m\u001b[0;36m0.5\u001b[0m\u001b[0;34m*\u001b[0m\u001b[0;34m(\u001b[0m\u001b[0;34m(\u001b[0m\u001b[0mi\u001b[0m\u001b[0;34m-\u001b[0m\u001b[0mm\u001b[0m\u001b[0;34m)\u001b[0m\u001b[0;34m/\u001b[0m\u001b[0ms\u001b[0m\u001b[0;34m)\u001b[0m\u001b[0;34m**\u001b[0m\u001b[0;36m2\u001b[0m\u001b[0;34m)\u001b[0m\u001b[0;34m)\u001b[0m\u001b[0;34m\u001b[0m\u001b[0m\n\u001b[1;32m      4\u001b[0m     \u001b[0;32mreturn\u001b[0m \u001b[0mz\u001b[0m\u001b[0;34m\u001b[0m\u001b[0m\n\u001b[0;32m----> 5\u001b[0;31m \u001b[0mylist\u001b[0m\u001b[0;34m=\u001b[0m\u001b[0mlist\u001b[0m\u001b[0;34m(\u001b[0m\u001b[0mmap\u001b[0m\u001b[0;34m(\u001b[0m\u001b[0mf\u001b[0m\u001b[0;34m,\u001b[0m\u001b[0mx\u001b[0m\u001b[0;34m)\u001b[0m\u001b[0;34m)\u001b[0m\u001b[0;34m\u001b[0m\u001b[0m\n\u001b[0m\u001b[1;32m      6\u001b[0m \u001b[0mprint\u001b[0m \u001b[0;34m(\u001b[0m\u001b[0mylist\u001b[0m\u001b[0;34m)\u001b[0m\u001b[0;34m\u001b[0m\u001b[0m\n",
      "\u001b[0;31mTypeError\u001b[0m: 'map' object is not callable"
     ]
    }
   ],
   "source": [
    "x=[-5,-4,-3,-2,-1,0,1,2,3,4,5]\n",
    "def f(x,m=0,s=1):\n",
    "    z=(1/(sqrt(2*pi)*s)*exp(-0.5*((i-m)/s)**2))\n",
    "    return z\n",
    "ylist=list(map(f,x))\n",
    "print (ylist)"
   ]
  },
  {
   "cell_type": "code",
   "execution_count": 3,
   "metadata": {},
   "outputs": [
    {
     "name": "stdout",
     "output_type": "stream",
     "text": [
      "5\n",
      "2\n",
      "4\n",
      "3\n",
      "1\n"
     ]
    }
   ],
   "source": [
    "o=[1,3,4,2,5]\n",
    "b=reversed(o)\n",
    "for i in b:\n",
    "    print (i)"
   ]
  },
  {
   "cell_type": "code",
   "execution_count": 1,
   "metadata": {},
   "outputs": [],
   "source": []
  },
  {
   "cell_type": "code",
   "execution_count": null,
   "metadata": {},
   "outputs": [],
   "source": []
  }
 ],
 "metadata": {
  "kernelspec": {
   "display_name": "Python 3",
   "language": "python",
   "name": "python3"
  },
  "language_info": {
   "codemirror_mode": {
    "name": "ipython",
    "version": 3
   },
   "file_extension": ".py",
   "mimetype": "text/x-python",
   "name": "python",
   "nbconvert_exporter": "python",
   "pygments_lexer": "ipython3",
   "version": "3.5.2"
  }
 },
 "nbformat": 4,
 "nbformat_minor": 2
}
